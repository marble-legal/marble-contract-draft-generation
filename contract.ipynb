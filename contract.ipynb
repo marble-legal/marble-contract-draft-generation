{
 "cells": [
  {
   "cell_type": "code",
   "execution_count": 39,
   "metadata": {},
   "outputs": [],
   "source": [
    "from openai import OpenAI\n",
    "import os\n",
    "client = OpenAI(\n",
    "   api_key=os.environ.get('OPENAI_API_KEY'),\n",
    ")"
   ]
  },
  {
   "cell_type": "code",
   "execution_count": 40,
   "metadata": {},
   "outputs": [],
   "source": [
    "my_file = client.files.create(\n",
    "  file=open(\"Agreement For Consulting Services.docx\", \"rb\"),\n",
    "  purpose='assistants'\n",
    ")"
   ]
  },
  {
   "cell_type": "code",
   "execution_count": 41,
   "metadata": {},
   "outputs": [],
   "source": [
    "my_assistant = client.beta.assistants.create(\n",
    "    model=\"gpt-4o\",\n",
    "    instructions=\"You are legal contract writting expert.\",\n",
    "    name=\"Leagl AI\",\n",
    "    tools=[{\"type\": \"file_search\"}],\n",
    "    tool_resources={\n",
    "    \"code_interpreter\": {\n",
    "      \"file_ids\": [my_file.id]\n",
    "    }\n",
    "  }\n",
    ")"
   ]
  },
  {
   "cell_type": "code",
   "execution_count": 42,
   "metadata": {},
   "outputs": [],
   "source": [
    "my_thread = client.beta.threads.create(\n",
    "  messages=[\n",
    "    {\n",
    "      \"role\": \"user\",\n",
    "      \"content\": \"Create an aggrement for consulting between two parties in the same format as the attached file\",\n",
    "      \"attachments\": [\n",
    "        {\n",
    "          \"file_id\": my_file.id,\n",
    "          \"tools\": [{\"type\": \"file_search\"}]\n",
    "        }\n",
    "      ]\n",
    "    }\n",
    "  ]\n",
    ")"
   ]
  },
  {
   "cell_type": "code",
   "execution_count": 43,
   "metadata": {},
   "outputs": [],
   "source": [
    "my_run = client.beta.threads.runs.create(\n",
    "  thread_id=my_thread.id,\n",
    "  assistant_id=my_assistant.id,\n",
    ")"
   ]
  },
  {
   "cell_type": "code",
   "execution_count": 44,
   "metadata": {},
   "outputs": [],
   "source": [
    "keep_retrieving_run = client.beta.threads.runs.retrieve(\n",
    "    thread_id=my_thread.id,\n",
    "    run_id=my_run.id\n",
    ")\n",
    "\n",
    "\n"
   ]
  },
  {
   "cell_type": "code",
   "execution_count": 45,
   "metadata": {},
   "outputs": [
    {
     "data": {
      "text/plain": [
       "SyncCursorPage[Message](data=[Message(id='msg_V30dL54OqkBxl47Lo5sDM3VT', assistant_id='asst_yXZXvR3DKRt64UQPQ6WAn96V', attachments=[], completed_at=None, content=[], created_at=1718988437, incomplete_at=None, incomplete_details=None, metadata={}, object='thread.message', role='assistant', run_id='run_a1wcO4myfkNOOG2wlQq1zPAG', status=None, thread_id='thread_4OKouLQkP1vdVnBGsXbU37gL'), Message(id='msg_r2JMRz85upQxBTt83GxgScc4', assistant_id=None, attachments=[Attachment(file_id='file-RJlH9iu44cuw2VgWNBtl1NEF', tools=[AttachmentToolAssistantToolsFileSearchTypeOnly(type='file_search')])], completed_at=None, content=[TextContentBlock(text=Text(annotations=[], value='Create an aggrement for consulting between two parties in the same format as the attached file'), type='text')], created_at=1718988435, incomplete_at=None, incomplete_details=None, metadata={}, object='thread.message', role='user', run_id=None, status=None, thread_id='thread_4OKouLQkP1vdVnBGsXbU37gL')], object='list', first_id='msg_V30dL54OqkBxl47Lo5sDM3VT', last_id='msg_r2JMRz85upQxBTt83GxgScc4', has_more=False)"
      ]
     },
     "execution_count": 45,
     "metadata": {},
     "output_type": "execute_result"
    }
   ],
   "source": [
    "all_messages = client.beta.threads.messages.list(\n",
    "    thread_id=my_thread.id\n",
    ")\n",
    "all_messages"
   ]
  },
  {
   "cell_type": "code",
   "execution_count": 46,
   "metadata": {},
   "outputs": [
    {
     "ename": "IndexError",
     "evalue": "list index out of range",
     "output_type": "error",
     "traceback": [
      "\u001b[0;31m---------------------------------------------------------------------------\u001b[0m",
      "\u001b[0;31mIndexError\u001b[0m                                Traceback (most recent call last)",
      "Cell \u001b[0;32mIn[46], line 1\u001b[0m\n\u001b[0;32m----> 1\u001b[0m \u001b[38;5;28mprint\u001b[39m(\u001b[38;5;124mf\u001b[39m\u001b[38;5;124m\"\u001b[39m\u001b[38;5;124mAssistant: \u001b[39m\u001b[38;5;132;01m{\u001b[39;00m\u001b[43mall_messages\u001b[49m\u001b[38;5;241;43m.\u001b[39;49m\u001b[43mdata\u001b[49m\u001b[43m[\u001b[49m\u001b[38;5;241;43m0\u001b[39;49m\u001b[43m]\u001b[49m\u001b[38;5;241;43m.\u001b[39;49m\u001b[43mcontent\u001b[49m\u001b[43m[\u001b[49m\u001b[38;5;241;43m0\u001b[39;49m\u001b[43m]\u001b[49m\u001b[38;5;241m.\u001b[39mtext\u001b[38;5;241m.\u001b[39mvalue\u001b[38;5;132;01m}\u001b[39;00m\u001b[38;5;124m\"\u001b[39m)\n",
      "\u001b[0;31mIndexError\u001b[0m: list index out of range"
     ]
    }
   ],
   "source": [
    "print(f\"Assistant: {all_messages.data[0].content[0].text.value}\")"
   ]
  },
  {
   "cell_type": "code",
   "execution_count": 47,
   "metadata": {},
   "outputs": [],
   "source": [
    "import os\n",
    "import zipfile\n",
    "import shutil\n",
    "\n",
    "def unzip_and_cleanup(main_folder):\n",
    "    for item in os.listdir(main_folder):\n",
    "        item_path = os.path.join(main_folder, item)\n",
    "        \n",
    "        # Check if the item is a zip file\n",
    "        if item.endswith('.zip'):\n",
    "            # Unzip the file into a temporary folder\n",
    "            with zipfile.ZipFile(item_path, 'r') as zip_ref:\n",
    "                zip_ref.extractall(main_folder)\n",
    "            \n",
    "            # Identify and move the contents of any extracted subfolders\n",
    "            extracted_folders = [os.path.join(main_folder, f) for f in os.listdir(main_folder) if os.path.isdir(os.path.join(main_folder, f))]\n",
    "            for folder in extracted_folders:\n",
    "                for sub_item in os.listdir(folder):\n",
    "                    sub_item_path = os.path.join(folder, sub_item)\n",
    "                    shutil.move(sub_item_path, main_folder)\n",
    "                \n",
    "                # Remove the now empty subfolder\n",
    "                os.rmdir(folder)\n",
    "            \n",
    "            # Remove the zip file\n",
    "            os.remove(item_path)\n",
    "\n",
    "# Example usage\n",
    "main_folder = 'contracts/LLC operating agreements'\n",
    "unzip_and_cleanup(main_folder)\n"
   ]
  }
 ],
 "metadata": {
  "kernelspec": {
   "display_name": "CONTRACT",
   "language": "python",
   "name": "python3"
  },
  "language_info": {
   "codemirror_mode": {
    "name": "ipython",
    "version": 3
   },
   "file_extension": ".py",
   "mimetype": "text/x-python",
   "name": "python",
   "nbconvert_exporter": "python",
   "pygments_lexer": "ipython3",
   "version": "3.11.1"
  }
 },
 "nbformat": 4,
 "nbformat_minor": 2
}
